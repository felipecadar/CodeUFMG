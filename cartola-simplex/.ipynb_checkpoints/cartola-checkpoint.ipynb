{
 "cells": [
  {
   "cell_type": "code",
   "execution_count": 20,
   "metadata": {},
   "outputs": [
    {
     "name": "stdout",
     "output_type": "stream",
     "text": [
      "Legenda posicoes:\n",
      "1 Goleiro\n",
      "2 Lateral\n",
      "3 Zagueiro\n",
      "4 Meia\n",
      "5 Atacante\n",
      "6 Técnico\n",
      "\n",
      "Legenda Status:\n",
      "2 Dúvida\n",
      "3 Suspenso\n",
      "5 Contundido\n",
      "6 Nulo\n",
      "7 Provável\n",
      "\n",
      "nome : Maílson Tenório dos Santos\n",
      "slug : mailson\n",
      "apelido : Maílson\n",
      "foto : https://s.glbimg.com/es/sde/f/2018/05/24/d5727b385d03345fbbfcdc75ebcdbe7c_FORMATO.png\n",
      "atleta_id : 98034\n",
      "rodada_id : 1\n",
      "clube_id : 292\n",
      "posicao_id : 1\n",
      "status_id : 7\n",
      "pontos_num : 2.5\n",
      "preco_num : 4.71\n",
      "variacao_num : 0.71\n",
      "media_num : 2.5\n",
      "jogos_num : 1\n",
      "scout : {'DD': 2, 'GS': 2, 'PI': 15}\n",
      "id : 262\n",
      "nome : Flamengo\n",
      "abreviacao : FLA\n",
      "posicao : 17\n",
      "escudos : {'60x60': 'https://s.glbimg.com/es/sde/f/organizacoes/2018/04/09/Flamengo-65.png', '45x45': 'https://s.glbimg.com/es/sde/f/organizacoes/2018/04/09/Flamengo-45.png', '30x30': 'https://s.glbimg.com/es/sde/f/organizacoes/2018/04/09/Flamengo-30.png'}\n",
      "nome_fantasia : Flamengo\n"
     ]
    }
   ],
   "source": [
    "import apicartola.mercado as api\n",
    "import numpy as np\n",
    "from tqdm import tqdm\n",
    "import pulp\n",
    "\n",
    "info_status = api.status()\n",
    "info_clubes = api.clubes()\n",
    "info_posicoes = api.posicoes()\n",
    "mercado = api.atletas()\n",
    "\n",
    "esquemas = {\n",
    "    343:[5,5,5,4,4,4,4,3,3,3,1,6],\n",
    "    352:[5,5,4,4,4,4,4,3,3,3,1,6],\n",
    "    433:[5,5,5,4,4,4,3,3,2,2,1,6],\n",
    "    442:[5,5,4,4,4,4,3,3,2,2,1,6],\n",
    "    451:[5, 4,4,4,4,4,3,3,2,2,1,6],\n",
    "    532:[5,5,4,4,4,3,3,2,2,2,1,6],\n",
    "    541:[5,4,4,4,4,3,3,3,2,2,1,6],\n",
    "}\n",
    "\n",
    "dinheiro = 100\n",
    "\n",
    "print(\"Legenda posicoes:\")\n",
    "for i in info_posicoes:\n",
    "    print(i, info_posicoes[i])\n",
    "\n",
    "print(\"\\nLegenda Status:\")\n",
    "for i in info_status:\n",
    "    print(i, info_status[i])\n",
    "    \n",
    "atl_ex = mercado[23]\n",
    "clube_ex = info_clubes[262]\n",
    "\n",
    "print(\"\\n\")\n",
    "for i, j in atl_ex.items():\n",
    "    print(i,\":\",j)\n",
    "    \n",
    "for i, j in clube_ex.items():\n",
    "    print(i,\":\",j)\n"
   ]
  },
  {
   "cell_type": "code",
   "execution_count": 19,
   "metadata": {},
   "outputs": [
    {
     "name": "stdout",
     "output_type": "stream",
     "text": [
      "nome : Éder Ferreira Graminho\n",
      "slug : eder\n",
      "apelido : Éder \n",
      "foto : https://s.glbimg.com/es/sde/f/2020/02/27/15b28caaa2392bbd4e619dee98680e8e_FORMATO.png\n",
      "atleta_id : 91203\n",
      "rodada_id : 1\n",
      "clube_id : 373\n",
      "posicao_id : 3\n",
      "status_id : 7\n",
      "pontos_num : 0\n",
      "preco_num : 3\n",
      "variacao_num : 0\n",
      "media_num : 0\n",
      "jogos_num : 0\n",
      "scout : {}\n",
      "id : 262\n",
      "nome : Flamengo\n",
      "abreviacao : FLA\n",
      "posicao : 17\n",
      "escudos : {'60x60': 'https://s.glbimg.com/es/sde/f/organizacoes/2018/04/09/Flamengo-65.png', '45x45': 'https://s.glbimg.com/es/sde/f/organizacoes/2018/04/09/Flamengo-45.png', '30x30': 'https://s.glbimg.com/es/sde/f/organizacoes/2018/04/09/Flamengo-30.png'}\n",
      "nome_fantasia : Flamengo\n"
     ]
    }
   ],
   "source": [
    "\n"
   ]
  },
  {
   "cell_type": "code",
   "execution_count": 3,
   "metadata": {},
   "outputs": [
    {
     "name": "stdout",
     "output_type": "stream",
     "text": [
      "Luan Sales do Nascimento | Status: Nulo\n"
     ]
    }
   ],
   "source": [
    "atletas = []\n",
    "# for atl in mercado:\n",
    "#     # Filtra somente provaveis\n",
    "#     if atl[\"status_id\"] == 6:\n",
    "#         atletas.append(atl)\n",
    " \n",
    "atletas = mercado\n",
    "print(atletas[0][\"nome\"], \"| Status:\" ,info_status[atletas[0][\"status_id\"]] )\n"
   ]
  },
  {
   "cell_type": "code",
   "execution_count": 7,
   "metadata": {},
   "outputs": [],
   "source": [
    "def getAtletasIdx(atletas, posicao):\n",
    "    idx_list = []\n",
    "    for i, atl in enumerate(atletas):\n",
    "        if atl[\"posicao_id\"] == posicao:\n",
    "            idx_list.append(i)\n",
    "    \n",
    "    return idx_list\n",
    "\n",
    "\n",
    "JOGADORES = range(len(atletas))\n",
    "\n",
    "precos_pre = [atl[\"preco_num\"] -  atl[\"variacao_num\"] for atl in atletas]\n",
    "precos_pos = [atl[\"preco_num\"] for atl in atletas]\n",
    "\n",
    "pontos = [atl[\"pontos_num\"]  for atl in atletas]\n",
    "\n",
    "formacao = 343\n"
   ]
  },
  {
   "cell_type": "markdown",
   "metadata": {},
   "source": [
    "# Achando o time que mais pontuou na rodada!\n",
    "\n",
    "Vamo usar uma otimização inteira para selecionar os jogadores"
   ]
  },
  {
   "cell_type": "code",
   "execution_count": 9,
   "metadata": {},
   "outputs": [
    {
     "name": "stderr",
     "output_type": "stream",
     "text": [
      "/usr/local/lib/python3.6/dist-packages/pulp/pulp.py:1190: UserWarning: Spaces are not permitted in the name. Converted to '_'\n",
      "  warnings.warn(\"Spaces are not permitted in the name. Converted to '_'\")\n"
     ]
    },
    {
     "name": "stdout",
     "output_type": "stream",
     "text": [
      "Formacao: 433\n",
      "Preço: 73.00\n",
      "Pontos: 121.91\n",
      "------------------------------------------------------------------------------\n",
      "CAP  Meia       9.80 Leonardo Cittadini\n",
      "CAP  Técnico    6.31 Dorival Silvestre Júnior\n",
      "CAP  Lateral    9.80 Jonathan Cícero Moreira\n",
      "GRE  Goleiro    8.20 Vanderlei Farias da Silva\n",
      "GRE  Zagueiro   8.30 Pedro Tonon Geromel\n",
      "SPO  Meia       9.50 Jonatan David Gomez Ospina\n",
      "SAN  Meia       8.80 Alison Lopes Ferreira\n",
      "ATL  Zagueiro   7.40 Wellington Daniel Bueno\n",
      "ATL  Zagueiro   10.50 Igor Rabello da Costa\n",
      "INT  Meia       6.90 Thiago Galhardo do Nascimento Rocha\n",
      "INT  Lateral    12.20 Renzo Saravia\n",
      "SPO  Atacante   15.60 Elton Rodrigues Brandão\n",
      "******************************************************************************\n"
     ]
    }
   ],
   "source": [
    "best_form = None\n",
    "best_chouices = None\n",
    "best_score = 0\n",
    "for formacao in esquemas.keys():\n",
    "\n",
    "    idx_position={}\n",
    "    config = {}\n",
    "    for posicao in [1,2,3,4,5,6]:\n",
    "        config[posicao] = esquemas[formacao].count(posicao)\n",
    "        idx_position[posicao] = getAtletasIdx(atletas, posicao)\n",
    "\n",
    "    ## Create prob\n",
    "    prob = pulp.LpProblem(\"Max Points\", sense=pulp.const.LpMaximize)\n",
    "\n",
    "    ## Create variables\n",
    "    choices = pulp.LpVariable.dict(\"Choice\", JOGADORES, cat=\"Binary\")\n",
    "\n",
    "    ## Objective Function to max total points\n",
    "    prob += pulp.lpSum([choices[i] * pontos[i]  for i in choices])\n",
    "\n",
    "    ## Add constraints to fit the team config\n",
    "    for pos in config:\n",
    "        prob += pulp.lpSum([choices[i] for i in idx_position[pos]]) == config[pos]\n",
    "\n",
    "    prob += pulp.lpSum([choices[i] * precos_pre[i]  for i in choices]) <= dinheiro\n",
    "    \n",
    "    status = prob.solve()\n",
    "    \n",
    "    if best_score < pulp.value(prob.objective):\n",
    "        best_score = pulp.value(prob.objective)\n",
    "        best_chouices = choices\n",
    "        best_form = formacao\n",
    "\n",
    "\n",
    "choices_arr = [pulp.value(best_chouices[i]) for i in choices]\n",
    "print(\"Formacao:\", best_form)\n",
    "print(\"Preço: {:.2f}\".format(np.sum([precos_pre[i] * choices_arr[i] for i in range(len(choices_arr))])))\n",
    "print(\"Pontos: {:.2f}\".format(np.sum([pontos[i] * choices_arr[i] for i in range(len(choices_arr))])))\n",
    "print(\"------------------------------------------------------------------------------\")\n",
    "for i in choices:\n",
    "    if pulp.value(choices[i]) > 0:\n",
    "        clube = info_clubes[atletas[i][\"clube_id\"]][\"abreviacao\"]\n",
    "        posicao = info_posicoes[atletas[i][\"posicao_id\"]]\n",
    "        nome = atletas[i][\"nome\"]\n",
    "        pontuacao = pontos[i]\n",
    "        print(\"{:4} {:10} {:.2f} {}\".format(clube, posicao, pontuacao, nome))\n",
    "print(\"******************************************************************************\")\n"
   ]
  },
  {
   "cell_type": "markdown",
   "metadata": {},
   "source": [
    "# Achando o time que mais valorizou na rodada"
   ]
  },
  {
   "cell_type": "code",
   "execution_count": 10,
   "metadata": {},
   "outputs": [
    {
     "name": "stderr",
     "output_type": "stream",
     "text": [
      "/usr/local/lib/python3.6/dist-packages/pulp/pulp.py:1190: UserWarning: Spaces are not permitted in the name. Converted to '_'\n",
      "  warnings.warn(\"Spaces are not permitted in the name. Converted to '_'\")\n"
     ]
    },
    {
     "name": "stdout",
     "output_type": "stream",
     "text": [
      "Formacao: 433\n",
      "Preço antes: 100.00\n",
      "Preço depois: 157.14\n",
      "Pontos: 103.90\n",
      "------------------------------------------------------------------------------\n",
      "CAP  Meia       9.80 Leonardo Cittadini\n",
      "CAP  Técnico    6.31 Dorival Silvestre Júnior\n",
      "CAP  Goleiro    8.20 Jandrei Chitolina Carniel\n",
      "CAP  Lateral    9.80 Jonathan Cícero Moreira\n",
      "BAH  Meia       0.00 Rodrigo Eduardo Costa Marinho\n",
      "GRE  Zagueiro   8.30 Pedro Tonon Geromel\n",
      "SPO  Meia       9.50 Jonatan David Gomez Ospina\n",
      "SAN  Meia       8.80 Alison Lopes Ferreira\n",
      "ATL  Zagueiro   10.50 Igor Rabello da Costa\n",
      "INT  Lateral    12.20 Renzo Saravia\n",
      "VAS  Zagueiro   0.00 Leandro Castan da Silva\n",
      "SPO  Atacante   15.60 Elton Rodrigues Brandão\n",
      "******************************************************************************\n"
     ]
    }
   ],
   "source": [
    "best_form = None\n",
    "best_chouices = None\n",
    "best_score = 0\n",
    "for formacao in esquemas.keys():\n",
    "\n",
    "    idx_position={}\n",
    "    config = {}\n",
    "    for posicao in [1,2,3,4,5,6]:\n",
    "        config[posicao] = esquemas[formacao].count(posicao)\n",
    "        idx_position[posicao] = getAtletasIdx(atletas, posicao)\n",
    "\n",
    "    ## Create prob\n",
    "    prob = pulp.LpProblem(\"Max Value\", sense=pulp.const.LpMaximize)\n",
    "\n",
    "    ## Create variables\n",
    "    choices = pulp.LpVariable.dict(\"Choice\", JOGADORES, cat=\"Binary\")\n",
    "\n",
    "    ## Objective Function to max total cost\n",
    "    prob += pulp.lpSum([choices[i] * precos_pos[i]  for i in choices])\n",
    "\n",
    "    ## Add constraints to fit the team config\n",
    "    for pos in config:\n",
    "        prob += pulp.lpSum([choices[i] for i in idx_position[pos]]) == config[pos]\n",
    "\n",
    "    prob += pulp.lpSum([choices[i] * precos_pre[i]  for i in choices]) <= dinheiro\n",
    "    \n",
    "    status = prob.solve()\n",
    "    \n",
    "    if best_score < pulp.value(prob.objective):\n",
    "        best_score = pulp.value(prob.objective)\n",
    "        best_chouices = choices\n",
    "        best_form = formacao\n",
    "\n",
    "\n",
    "choices_arr = [pulp.value(best_chouices[i]) for i in choices]\n",
    "print(\"Formacao:\", best_form)\n",
    "print(\"Preço antes: {:.2f}\".format(np.sum([precos_pre[i] * choices_arr[i] for i in range(len(choices_arr))])))\n",
    "print(\"Preço depois: {:.2f}\".format(np.sum([precos_pos[i] * choices_arr[i] for i in range(len(choices_arr))])))\n",
    "print(\"Pontos: {:.2f}\".format(np.sum([pontos[i] * choices_arr[i] for i in range(len(choices_arr))])))\n",
    "print(\"------------------------------------------------------------------------------\")\n",
    "for i in choices:\n",
    "    if pulp.value(choices[i]) > 0:\n",
    "        clube = info_clubes[atletas[i][\"clube_id\"]][\"abreviacao\"]\n",
    "        posicao = info_posicoes[atletas[i][\"posicao_id\"]]\n",
    "        nome = atletas[i][\"nome\"]\n",
    "        pontuacao = pontos[i]\n",
    "        print(\"{:4} {:10} {:.2f} {}\".format(clube, posicao, pontuacao, nome))\n",
    "print(\"******************************************************************************\")\n"
   ]
  },
  {
   "cell_type": "code",
   "execution_count": null,
   "metadata": {},
   "outputs": [],
   "source": []
  },
  {
   "cell_type": "code",
   "execution_count": null,
   "metadata": {},
   "outputs": [],
   "source": []
  }
 ],
 "metadata": {
  "kernelspec": {
   "display_name": "Python 3",
   "language": "python",
   "name": "python3"
  },
  "language_info": {
   "codemirror_mode": {
    "name": "ipython",
    "version": 3
   },
   "file_extension": ".py",
   "mimetype": "text/x-python",
   "name": "python",
   "nbconvert_exporter": "python",
   "pygments_lexer": "ipython3",
   "version": "3.6.9"
  }
 },
 "nbformat": 4,
 "nbformat_minor": 4
}
